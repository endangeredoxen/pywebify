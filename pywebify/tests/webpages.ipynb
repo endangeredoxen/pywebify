{
 "cells": [
  {
   "cell_type": "markdown",
   "metadata": {},
   "source": [
    "# webpages module\n",
    "* author: kevin.tetz\n",
    "* description: webpages module tests"
   ]
  },
  {
   "cell_type": "code",
   "execution_count": 3,
   "metadata": {},
   "outputs": [
    {
     "name": "stdout",
     "output_type": "stream",
     "text": [
      "The autoreload extension is already loaded. To reload it, use:\n",
      "  %reload_ext autoreload\n"
     ]
    }
   ],
   "source": [
    "%load_ext autoreload\n",
    "%autoreload 2\n",
    "import os, sys\n",
    "path = os.path.abspath('../..'); sys.path.insert(0, path) if path not in sys.path else None\n",
    "from IPython.display import HTML\n",
    "from pywebify import webpage\n",
    "Page = webpage.Webpage"
   ]
  },
  {
   "cell_type": "markdown",
   "metadata": {},
   "source": [
    "## field setting"
   ]
  },
  {
   "cell_type": "markdown",
   "metadata": {},
   "source": [
    "### invalid attribute\n",
    "* raises Attribute error"
   ]
  },
  {
   "cell_type": "code",
   "execution_count": 4,
   "metadata": {},
   "outputs": [
    {
     "ename": "AttributeError",
     "evalue": "'blah' is not a valid  attribute of a <class 'pywebify.webpage.Webpage'>",
     "output_type": "error",
     "traceback": [
      "\u001b[0;31m---------------------------------------------------------------------------\u001b[0m",
      "\u001b[0;31mAttributeError\u001b[0m                            Traceback (most recent call last)",
      "\u001b[0;32m<ipython-input-4-c625f6881d76>\u001b[0m in \u001b[0;36m<module>\u001b[0;34m()\u001b[0m\n\u001b[0;32m----> 1\u001b[0;31m \u001b[0mPage\u001b[0m\u001b[0;34m(\u001b[0m\u001b[0mblah\u001b[0m\u001b[0;34m=\u001b[0m\u001b[0;32mTrue\u001b[0m\u001b[0;34m)\u001b[0m\u001b[0;34m\u001b[0m\u001b[0m\n\u001b[0m",
      "\u001b[0;32m/home/kevin/code/git/pywebify/pywebify/webpage.py\u001b[0m in \u001b[0;36m__init__\u001b[0;34m(self, **kwargs)\u001b[0m\n\u001b[1;32m     63\u001b[0m         \u001b[0mself\u001b[0m\u001b[0;34m.\u001b[0m\u001b[0mpagename\u001b[0m \u001b[0;34m=\u001b[0m \u001b[0;32mNone\u001b[0m\u001b[0;34m\u001b[0m\u001b[0m\n\u001b[1;32m     64\u001b[0m \u001b[0;34m\u001b[0m\u001b[0m\n\u001b[0;32m---> 65\u001b[0;31m         \u001b[0mself\u001b[0m\u001b[0;34m.\u001b[0m\u001b[0m_set_kwargs\u001b[0m\u001b[0;34m(\u001b[0m\u001b[0;34m**\u001b[0m\u001b[0mkwargs\u001b[0m\u001b[0;34m)\u001b[0m\u001b[0;34m\u001b[0m\u001b[0m\n\u001b[0m\u001b[1;32m     66\u001b[0m \u001b[0;34m\u001b[0m\u001b[0m\n\u001b[1;32m     67\u001b[0m         \u001b[0mself\u001b[0m\u001b[0;34m.\u001b[0m\u001b[0mpagefilename\u001b[0m \u001b[0;34m=\u001b[0m \u001b[0mself\u001b[0m\u001b[0;34m.\u001b[0m\u001b[0m_pagefilename\u001b[0m\u001b[0;34m\u001b[0m\u001b[0m\n",
      "\u001b[0;32m/home/kevin/code/git/pywebify/pywebify/webpage.py\u001b[0m in \u001b[0;36mwrapper\u001b[0;34m(*args, **kwargs)\u001b[0m\n\u001b[1;32m     33\u001b[0m             \u001b[0;32mif\u001b[0m \u001b[0;32mnot\u001b[0m \u001b[0mhasattr\u001b[0m\u001b[0;34m(\u001b[0m\u001b[0margs\u001b[0m\u001b[0;34m[\u001b[0m\u001b[0;36m0\u001b[0m\u001b[0;34m]\u001b[0m\u001b[0;34m,\u001b[0m \u001b[0mkey\u001b[0m\u001b[0;34m)\u001b[0m\u001b[0;34m:\u001b[0m\u001b[0;34m\u001b[0m\u001b[0m\n\u001b[1;32m     34\u001b[0m                 raise AttributeError(\"'{}' is not a valid  attribute of a {}\".format(\n\u001b[0;32m---> 35\u001b[0;31m                                      key, type(args[0])))\n\u001b[0m\u001b[1;32m     36\u001b[0m         \u001b[0;32mreturn\u001b[0m \u001b[0mfunc\u001b[0m\u001b[0;34m(\u001b[0m\u001b[0;34m*\u001b[0m\u001b[0margs\u001b[0m\u001b[0;34m,\u001b[0m \u001b[0;34m**\u001b[0m\u001b[0mkwargs\u001b[0m\u001b[0;34m)\u001b[0m\u001b[0;34m\u001b[0m\u001b[0m\n\u001b[1;32m     37\u001b[0m     \u001b[0;32mreturn\u001b[0m \u001b[0mwrapper\u001b[0m\u001b[0;34m\u001b[0m\u001b[0m\n",
      "\u001b[0;31mAttributeError\u001b[0m: 'blah' is not a valid  attribute of a <class 'pywebify.webpage.Webpage'>"
     ]
    }
   ],
   "source": [
    "Page(blah=True)"
   ]
  },
  {
   "cell_type": "markdown",
   "metadata": {},
   "source": [
    "### set pagefilename\n",
    "* the filename concatenates the basepath, relpaths, pagefilename, and pagefileext into the pagename when set"
   ]
  },
  {
   "cell_type": "code",
   "execution_count": 6,
   "metadata": {},
   "outputs": [
    {
     "name": "stdout",
     "output_type": "stream",
     "text": [
      "c:\\temp/spam/eggs/newwebpage.html\n"
     ]
    }
   ],
   "source": [
    "page = Page(relpaths=['spam', 'eggs'])\n",
    "page.pagefilename = 'newwebpage'\n",
    "print(page.pagename)"
   ]
  },
  {
   "cell_type": "markdown",
   "metadata": {},
   "source": [
    "### set figfilename\n",
    "* similarly the figfilename concatenates the basepath, relpaths, figfilename, and figfileext into the figname when set"
   ]
  },
  {
   "cell_type": "code",
   "execution_count": 7,
   "metadata": {},
   "outputs": [
    {
     "name": "stdout",
     "output_type": "stream",
     "text": [
      "c:\\temp/spam/eggs/newfigure.png\n"
     ]
    }
   ],
   "source": [
    "wp = Page(relpaths=['foo', 'bar', 'baz'])\n",
    "page.figfilename = 'newfigure'\n",
    "print(page.figname)"
   ]
  },
  {
   "cell_type": "markdown",
   "metadata": {},
   "source": [
    "## render"
   ]
  },
  {
   "cell_type": "markdown",
   "metadata": {},
   "source": [
    "### basic template"
   ]
  },
  {
   "cell_type": "code",
   "execution_count": 30,
   "metadata": {},
   "outputs": [
    {
     "data": {
      "text/html": [
       "<!DOCTYPE html>\n",
       "<html>\n",
       "  <head>\n",
       "    \n",
       "    <title>pixelcrunch - </title>\n",
       "      \n",
       "      <meta http-equiv=\"X-UA-Compatible\" content=\"IE=edge\">\n",
       "      <meta name=\"viewport\" content=\"width=device-width, initial-scale=1.0\">\n",
       "      <link rel=\"shortcut icon\" href=\"./static/img/favicon.ico\" type=\"image/x-icon\">\n",
       "      <link rel=\"icon\" href=\"./static/img/favicon.ico\" type=\"image/x-icon\">\n",
       "      <link rel=\"stylesheet\" type=\"text/css\" href=\"https://cdn.datatables.net/s/dt/jq-2.1.4,jszip-2.5.0,pdfmake-0.1.18,dt-1.10.10,af-2.1.0,b-1.1.0,b-colvis-1.1.0,b-html5-1.1.0,b-print-1.1.0,cr-1.3.0,fc-3.2.0,fh-3.1.0,kt-2.1.0,r-2.0.0,rr-1.1.0,sc-1.4.0,se-1.1.0/datatables.min.css\"/>\n",
       "  </head>\n",
       "\n",
       "  <style type=\"text/css\">\n",
       "    body {\n",
       "      padding-top: 0px;   /* remove pad in default for fixed navbar - could change default css/template */\n",
       "      margin: 0;\n",
       "      overflow: auto;\n",
       "    }\n",
       "  </style>\n",
       "\n",
       "  <body>\n",
       "      \n",
       "        \n",
       "        <style type=\"text/css\">\n",
       "           .display {  font-size: 0.8em; }\n",
       "        </style>\n",
       "        \n",
       "          <hr><h1>Hello World!</h1><hr>\n",
       "        \n",
       "      \n",
       "\n",
       "      \n",
       "        \n",
       "      \n",
       "  </body>\n",
       "\n",
       "  <!-- <script src=\"../../../../static/js/datatables.min.js\"></script>  including jQuery and bootstrap -->\n",
       "  <script type=\"text/javascript\" src=\"https://cdn.datatables.net/s/dt/jq-2.1.4,jszip-2.5.0,pdfmake-0.1.18,dt-1.10.10,af-2.1.0,b-1.1.0,b-colvis-1.1.0,b-html5-1.1.0,b-print-1.1.0,cr-1.3.0,fc-3.2.0,fh-3.1.0,kt-2.1.0,r-2.0.0,rr-1.1.0,sc-1.4.0,se-1.1.0/datatables.min.js\"></script>\n",
       "\n",
       "  \n",
       "    \n",
       "  \n",
       "\n",
       "</html>"
      ],
      "text/plain": [
       "<IPython.core.display.HTML object>"
      ]
     },
     "execution_count": 30,
     "metadata": {},
     "output_type": "execute_result"
    }
   ],
   "source": [
    "HTML(Page().content('<hr><h1>Hello World!</h1><hr>').render().pagename)"
   ]
  },
  {
   "cell_type": "markdown",
   "metadata": {},
   "source": [
    "### tabs"
   ]
  },
  {
   "cell_type": "code",
   "execution_count": 8,
   "metadata": {},
   "outputs": [
    {
     "data": {
      "text/html": [
       "<!DOCTYPE html>\n",
       "<html>\n",
       "  <head>\n",
       "    \n",
       "      <title></title>\n",
       "      <link rel=\"stylesheet\" type=\"text/css\" href=\"https://cdn.datatables.net/s/dt/jq-2.1.4,jszip-2.5.0,pdfmake-0.1.18,dt-1.10.10,af-2.1.0,b-1.1.0,b-colvis-1.1.0,b-html5-1.1.0,b-print-1.1.0,cr-1.3.0,fc-3.2.0,fh-3.1.0,kt-2.1.0,r-2.0.0,rr-1.1.0,sc-1.4.0,se-1.1.0/datatables.min.css\"/>\n",
       "      <meta http-equiv=\"X-UA-Compatible\" content=\"IE=edge\">\n",
       "      <meta name=\"viewport\" content=\"width=device-width, initial-scale=1.0\">\n",
       "\n",
       "      <link rel= \"stylesheet\" type= \"text/css\" href= \"../static/css/datatables.css\">\n",
       "      <link rel= \"stylesheet\" type= \"text/css\" href= \"../static/css/base.css\">\n",
       "\n",
       "    \n",
       "  </head>\n",
       "\n",
       "  <style type=\"text/css\">\n",
       "    body {\n",
       "      padding-top: 0px;   /* remove pad in default for fixed navbar - could change default css/template */\n",
       "      margin: 0;\n",
       "      overflow: auto;\n",
       "    }\n",
       "  </style>\n",
       "\n",
       "  <body>\n",
       "    \n",
       "        \n",
       "            <a href=\"file://///c:\\temp/tabs1.html\">[page link]</a>\n",
       "<br>\n",
       "        \n",
       "             <ul class=\"nav nav-tabs\">\n",
       "                    <li class=\"active\"><a data-toggle=\"tab\" href=\"#tab0\">tab0</a></li>\n",
       "              \n",
       "<li><a data-toggle=\"tab\" href=\"#tab1\">tab1</a></li>\n",
       "<li><a data-toggle=\"tab\" href=\"#tab2\">tab2</a></li>\n",
       "</ul>\n",
       "<div class=\"tab-content\">\n",
       "                    <div id=\"tab0\" class=\"tab-pane fade in active\">\n",
       "                    tab0 content!\n",
       "</div>\n",
       "<div id=\"tab1\" class=\"tab-pane fade\">tab1 content?\n",
       "</div>\n",
       "<div id=\"tab2\" class=\"tab-pane fade\">hello tab 2!@?!\n",
       "</div></div>\n",
       "        \n",
       "    \n",
       "\n",
       "    <div class=\"divider\"></div>\n",
       "      \n",
       "      <hr>\n",
       "      \n",
       "      \n",
       "    </div>\n",
       "  </body>\n",
       "\n",
       "  <script src=\"../static/js/datatables.min.js\"></script> <!-- including jQuery and bootstrap -->\n",
       "  <script type=\"text/javascript\" src=\"https://cdn.datatables.net/s/dt/jq-2.1.4,jszip-2.5.0,pdfmake-0.1.18,dt-1.10.10,af-2.1.0,b-1.1.0,b-colvis-1.1.0,b-html5-1.1.0,b-print-1.1.0,cr-1.3.0,fc-3.2.0,fh-3.1.0,kt-2.1.0,r-2.0.0,rr-1.1.0,sc-1.4.0,se-1.1.0/datatables.min.js\"></script>\n",
       "  \n",
       "      \n",
       "  \n",
       "</html>"
      ],
      "text/plain": [
       "<IPython.core.display.HTML object>"
      ]
     },
     "execution_count": 8,
     "metadata": {},
     "output_type": "execute_result"
    }
   ],
   "source": [
    "page = Page()\n",
    "page.pagefilename = 'tabs1'\n",
    "page.pagelink().tabsinit('tab0').content('tab0 content!')\n",
    "page.tabsnext('tab1').content('tab1 content?').tabsnext('tab2').content('hello tab 2!@?!')\n",
    "HTML(page.tabsend().render().pagename)"
   ]
  }
 ],
 "metadata": {
  "hide_input": false,
  "kernelspec": {
   "display_name": "Python 3",
   "language": "python",
   "name": "python3"
  },
  "language_info": {
   "codemirror_mode": {
    "name": "ipython",
    "version": 3
   },
   "file_extension": ".py",
   "mimetype": "text/x-python",
   "name": "python",
   "nbconvert_exporter": "python",
   "pygments_lexer": "ipython3",
   "version": "3.5.3"
  },
  "toc": {
   "colors": {
    "hover_highlight": "#DAA520",
    "navigate_num": "#000000",
    "navigate_text": "#333333",
    "running_highlight": "#FF0000",
    "selected_highlight": "#FFD700",
    "sidebar_border": "#EEEEEE",
    "wrapper_background": "#FFFFFF"
   },
   "moveMenuLeft": true,
   "nav_menu": {
    "height": "158px",
    "width": "254px"
   },
   "navigate_menu": true,
   "number_sections": true,
   "sideBar": true,
   "threshold": 4,
   "toc_cell": false,
   "toc_section_display": "block",
   "toc_window_display": false,
   "widenNotebook": false
  },
  "varInspector": {
   "cols": {
    "lenName": 16,
    "lenType": 16,
    "lenVar": 40
   },
   "kernels_config": {
    "python": {
     "delete_cmd_postfix": "",
     "delete_cmd_prefix": "del ",
     "library": "var_list.py",
     "varRefreshCmd": "print(var_dic_list())"
    },
    "r": {
     "delete_cmd_postfix": ") ",
     "delete_cmd_prefix": "rm(",
     "library": "var_list.r",
     "varRefreshCmd": "cat(var_dic_list()) "
    }
   },
   "types_to_exclude": [
    "module",
    "function",
    "builtin_function_or_method",
    "instance",
    "_Feature"
   ],
   "window_display": false
  }
 },
 "nbformat": 4,
 "nbformat_minor": 2
}
